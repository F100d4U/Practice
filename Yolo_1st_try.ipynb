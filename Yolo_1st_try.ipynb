{
 "cells": [
  {
   "cell_type": "code",
   "execution_count": 3,
   "metadata": {},
   "outputs": [],
   "source": [
    "txt = open('/home/june/Yolo_mark/train1.txt','r')\n",
    "f = open('/home/june/Yolo_mark/train2.txt','w') \n",
    "while True : \n",
    "        line = txt.readline() \n",
    "        if not line:\n",
    "                break \n",
    "        f.write('/home/june/Yolo_mark/'+line)\n",
    "txt.close() \n",
    "f.close()"
   ]
  },
  {
   "cell_type": "code",
   "execution_count": 1,
   "metadata": {},
   "outputs": [],
   "source": [
    "import random \n",
    " \n",
    "txt = open('/home/june/Yolo_mark/train2.txt','r') \n",
    "f = open('/home/june/Yolo_mark/train_suffle.txt','w') \n",
    "tmp = [ ] \n",
    "while True : \n",
    "    line = txt.readline() \n",
    "    if not line: \n",
    "            break \n",
    "    tmp.append(line) \n",
    "random.shuffle(tmp) \n",
    "for i in tmp : \n",
    "        f.write(i) \n",
    "txt.close()\n",
    "f.close()"
   ]
  }
 ],
 "metadata": {
  "kernelspec": {
   "display_name": "Python 3.9.12 ('base')",
   "language": "python",
   "name": "python3"
  },
  "language_info": {
   "codemirror_mode": {
    "name": "ipython",
    "version": 3
   },
   "file_extension": ".py",
   "mimetype": "text/x-python",
   "name": "python",
   "nbconvert_exporter": "python",
   "pygments_lexer": "ipython3",
   "version": "3.9.12"
  },
  "orig_nbformat": 4,
  "vscode": {
   "interpreter": {
    "hash": "64f60db5d244171661447d9f571ca5a7e4bf0bab2148f20540b6d51562bb9ca4"
   }
  }
 },
 "nbformat": 4,
 "nbformat_minor": 2
}
